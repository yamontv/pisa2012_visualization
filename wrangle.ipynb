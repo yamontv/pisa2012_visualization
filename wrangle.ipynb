{
 "cells": [
  {
   "cell_type": "markdown",
   "metadata": {},
   "source": [
    "# Wrangle Data"
   ]
  },
  {
   "cell_type": "markdown",
   "metadata": {},
   "source": [
    "The document shows wrangling of PISA 2012 Dataset."
   ]
  },
  {
   "cell_type": "markdown",
   "metadata": {},
   "source": [
    "## Gathering Data"
   ]
  },
  {
   "cell_type": "markdown",
   "metadata": {},
   "source": [
    "Let's import all required packages."
   ]
  },
  {
   "cell_type": "code",
   "execution_count": 1,
   "metadata": {},
   "outputs": [],
   "source": [
    "import numpy as np\n",
    "import pandas as pd\n",
    "import requests\n",
    "import zipfile"
   ]
  },
  {
   "cell_type": "code",
   "execution_count": 2,
   "metadata": {},
   "outputs": [],
   "source": [
    "# Set this to False to redownload data!\n",
    "skip_downloading = True"
   ]
  },
  {
   "cell_type": "markdown",
   "metadata": {},
   "source": [
    "Let's download the dataset. The compressed file size is around 340Mb so it may take a long time!"
   ]
  },
  {
   "cell_type": "code",
   "execution_count": 3,
   "metadata": {},
   "outputs": [],
   "source": [
    "url = 'https://s3.amazonaws.com/udacity-hosted-downloads/ud507/pisa2012.csv.zip'\n",
    "if not skip_downloading:\n",
    "    resp = requests.get(url)\n",
    "    with open('data/' + url.split('/')[-1], mode='wb') as file:\n",
    "        file.write(resp.content)"
   ]
  },
  {
   "cell_type": "markdown",
   "metadata": {},
   "source": [
    "Here we place a list of columns that we need for our data exploration."
   ]
  },
  {
   "cell_type": "code",
   "execution_count": 4,
   "metadata": {},
   "outputs": [],
   "source": [
    "columns = [\n",
    "    'CNT', 'ST04Q01', 'ST27Q03', 'ST49Q07', 'WEALTH', 'PV1MATH', 'PV2MATH',\n",
    "    'PV3MATH', 'PV4MATH', 'PV5MATH', 'PV1READ', 'PV2READ', 'PV3READ',\n",
    "    'PV4READ', 'PV5READ', 'PV1SCIE', 'PV2SCIE', 'PV3SCIE', 'PV4SCIE', 'PV5SCIE'\n",
    "]"
   ]
  },
  {
   "cell_type": "code",
   "execution_count": 5,
   "metadata": {},
   "outputs": [],
   "source": [
    "# Load Data from zip archieve\n",
    "with open('data/pisa2012.csv.zip', 'rb') as zf:\n",
    "    zfile = zipfile.ZipFile(zf)\n",
    "    with zfile.open(zfile.filelist[0].filename) as f:\n",
    "        df = pd.read_csv(f, encoding='latin-1', usecols=columns)"
   ]
  },
  {
   "cell_type": "markdown",
   "metadata": {},
   "source": [
    "## Assessing the data"
   ]
  },
  {
   "cell_type": "code",
   "execution_count": 6,
   "metadata": {},
   "outputs": [
    {
     "data": {
      "text/html": [
       "<div>\n",
       "<style scoped>\n",
       "    .dataframe tbody tr th:only-of-type {\n",
       "        vertical-align: middle;\n",
       "    }\n",
       "\n",
       "    .dataframe tbody tr th {\n",
       "        vertical-align: top;\n",
       "    }\n",
       "\n",
       "    .dataframe thead th {\n",
       "        text-align: right;\n",
       "    }\n",
       "</style>\n",
       "<table border=\"1\" class=\"dataframe\">\n",
       "  <thead>\n",
       "    <tr style=\"text-align: right;\">\n",
       "      <th></th>\n",
       "      <th>CNT</th>\n",
       "      <th>ST04Q01</th>\n",
       "      <th>ST27Q03</th>\n",
       "      <th>ST49Q07</th>\n",
       "      <th>WEALTH</th>\n",
       "      <th>PV1MATH</th>\n",
       "      <th>PV2MATH</th>\n",
       "      <th>PV3MATH</th>\n",
       "      <th>PV4MATH</th>\n",
       "      <th>PV5MATH</th>\n",
       "      <th>PV1READ</th>\n",
       "      <th>PV2READ</th>\n",
       "      <th>PV3READ</th>\n",
       "      <th>PV4READ</th>\n",
       "      <th>PV5READ</th>\n",
       "      <th>PV1SCIE</th>\n",
       "      <th>PV2SCIE</th>\n",
       "      <th>PV3SCIE</th>\n",
       "      <th>PV4SCIE</th>\n",
       "      <th>PV5SCIE</th>\n",
       "    </tr>\n",
       "  </thead>\n",
       "  <tbody>\n",
       "    <tr>\n",
       "      <th>0</th>\n",
       "      <td>Albania</td>\n",
       "      <td>Female</td>\n",
       "      <td>None</td>\n",
       "      <td>Never or rarely</td>\n",
       "      <td>-2.92</td>\n",
       "      <td>406.8469</td>\n",
       "      <td>376.4683</td>\n",
       "      <td>344.5319</td>\n",
       "      <td>321.1637</td>\n",
       "      <td>381.9209</td>\n",
       "      <td>249.5762</td>\n",
       "      <td>254.3420</td>\n",
       "      <td>406.8496</td>\n",
       "      <td>175.7053</td>\n",
       "      <td>218.5981</td>\n",
       "      <td>341.7009</td>\n",
       "      <td>408.8400</td>\n",
       "      <td>348.2283</td>\n",
       "      <td>367.8105</td>\n",
       "      <td>392.9877</td>\n",
       "    </tr>\n",
       "    <tr>\n",
       "      <th>1</th>\n",
       "      <td>Albania</td>\n",
       "      <td>Female</td>\n",
       "      <td>Three or more</td>\n",
       "      <td>Never or rarely</td>\n",
       "      <td>0.69</td>\n",
       "      <td>486.1427</td>\n",
       "      <td>464.3325</td>\n",
       "      <td>453.4273</td>\n",
       "      <td>472.9008</td>\n",
       "      <td>476.0165</td>\n",
       "      <td>406.2936</td>\n",
       "      <td>349.8975</td>\n",
       "      <td>400.7334</td>\n",
       "      <td>369.7553</td>\n",
       "      <td>396.7618</td>\n",
       "      <td>548.9929</td>\n",
       "      <td>471.5964</td>\n",
       "      <td>471.5964</td>\n",
       "      <td>443.6218</td>\n",
       "      <td>454.8116</td>\n",
       "    </tr>\n",
       "    <tr>\n",
       "      <th>2</th>\n",
       "      <td>Albania</td>\n",
       "      <td>Female</td>\n",
       "      <td>Two</td>\n",
       "      <td>Never or rarely</td>\n",
       "      <td>-0.23</td>\n",
       "      <td>533.2684</td>\n",
       "      <td>481.0796</td>\n",
       "      <td>489.6479</td>\n",
       "      <td>490.4269</td>\n",
       "      <td>533.2684</td>\n",
       "      <td>401.2100</td>\n",
       "      <td>404.3872</td>\n",
       "      <td>387.7067</td>\n",
       "      <td>431.3938</td>\n",
       "      <td>401.2100</td>\n",
       "      <td>499.6643</td>\n",
       "      <td>428.7952</td>\n",
       "      <td>492.2044</td>\n",
       "      <td>512.7191</td>\n",
       "      <td>499.6643</td>\n",
       "    </tr>\n",
       "    <tr>\n",
       "      <th>3</th>\n",
       "      <td>Albania</td>\n",
       "      <td>Female</td>\n",
       "      <td>One</td>\n",
       "      <td>NaN</td>\n",
       "      <td>-1.17</td>\n",
       "      <td>412.2215</td>\n",
       "      <td>498.6836</td>\n",
       "      <td>415.3373</td>\n",
       "      <td>466.7472</td>\n",
       "      <td>454.2842</td>\n",
       "      <td>547.3630</td>\n",
       "      <td>481.4353</td>\n",
       "      <td>461.5776</td>\n",
       "      <td>425.0393</td>\n",
       "      <td>471.9036</td>\n",
       "      <td>438.6796</td>\n",
       "      <td>481.5740</td>\n",
       "      <td>448.9370</td>\n",
       "      <td>474.1141</td>\n",
       "      <td>426.5573</td>\n",
       "    </tr>\n",
       "    <tr>\n",
       "      <th>4</th>\n",
       "      <td>Albania</td>\n",
       "      <td>Female</td>\n",
       "      <td>Two</td>\n",
       "      <td>Sometimes</td>\n",
       "      <td>-1.17</td>\n",
       "      <td>381.9209</td>\n",
       "      <td>328.1742</td>\n",
       "      <td>403.7311</td>\n",
       "      <td>418.5309</td>\n",
       "      <td>395.1628</td>\n",
       "      <td>311.7707</td>\n",
       "      <td>141.7883</td>\n",
       "      <td>293.5015</td>\n",
       "      <td>272.8495</td>\n",
       "      <td>260.1405</td>\n",
       "      <td>361.5628</td>\n",
       "      <td>275.7740</td>\n",
       "      <td>372.7527</td>\n",
       "      <td>403.5248</td>\n",
       "      <td>422.1746</td>\n",
       "    </tr>\n",
       "  </tbody>\n",
       "</table>\n",
       "</div>"
      ],
      "text/plain": [
       "       CNT ST04Q01        ST27Q03          ST49Q07  WEALTH   PV1MATH  \\\n",
       "0  Albania  Female           None  Never or rarely   -2.92  406.8469   \n",
       "1  Albania  Female  Three or more  Never or rarely    0.69  486.1427   \n",
       "2  Albania  Female            Two  Never or rarely   -0.23  533.2684   \n",
       "3  Albania  Female            One              NaN   -1.17  412.2215   \n",
       "4  Albania  Female            Two        Sometimes   -1.17  381.9209   \n",
       "\n",
       "    PV2MATH   PV3MATH   PV4MATH   PV5MATH   PV1READ   PV2READ   PV3READ  \\\n",
       "0  376.4683  344.5319  321.1637  381.9209  249.5762  254.3420  406.8496   \n",
       "1  464.3325  453.4273  472.9008  476.0165  406.2936  349.8975  400.7334   \n",
       "2  481.0796  489.6479  490.4269  533.2684  401.2100  404.3872  387.7067   \n",
       "3  498.6836  415.3373  466.7472  454.2842  547.3630  481.4353  461.5776   \n",
       "4  328.1742  403.7311  418.5309  395.1628  311.7707  141.7883  293.5015   \n",
       "\n",
       "    PV4READ   PV5READ   PV1SCIE   PV2SCIE   PV3SCIE   PV4SCIE   PV5SCIE  \n",
       "0  175.7053  218.5981  341.7009  408.8400  348.2283  367.8105  392.9877  \n",
       "1  369.7553  396.7618  548.9929  471.5964  471.5964  443.6218  454.8116  \n",
       "2  431.3938  401.2100  499.6643  428.7952  492.2044  512.7191  499.6643  \n",
       "3  425.0393  471.9036  438.6796  481.5740  448.9370  474.1141  426.5573  \n",
       "4  272.8495  260.1405  361.5628  275.7740  372.7527  403.5248  422.1746  "
      ]
     },
     "execution_count": 6,
     "metadata": {},
     "output_type": "execute_result"
    }
   ],
   "source": [
    "df.head()"
   ]
  },
  {
   "cell_type": "code",
   "execution_count": 7,
   "metadata": {},
   "outputs": [
    {
     "name": "stdout",
     "output_type": "stream",
     "text": [
      "<class 'pandas.core.frame.DataFrame'>\n",
      "RangeIndex: 485490 entries, 0 to 485489\n",
      "Data columns (total 20 columns):\n",
      " #   Column   Non-Null Count   Dtype  \n",
      "---  ------   --------------   -----  \n",
      " 0   CNT      485490 non-null  object \n",
      " 1   ST04Q01  485490 non-null  object \n",
      " 2   ST27Q03  473459 non-null  object \n",
      " 3   ST49Q07  312425 non-null  object \n",
      " 4   WEALTH   479597 non-null  float64\n",
      " 5   PV1MATH  485490 non-null  float64\n",
      " 6   PV2MATH  485490 non-null  float64\n",
      " 7   PV3MATH  485490 non-null  float64\n",
      " 8   PV4MATH  485490 non-null  float64\n",
      " 9   PV5MATH  485490 non-null  float64\n",
      " 10  PV1READ  485490 non-null  float64\n",
      " 11  PV2READ  485490 non-null  float64\n",
      " 12  PV3READ  485490 non-null  float64\n",
      " 13  PV4READ  485490 non-null  float64\n",
      " 14  PV5READ  485490 non-null  float64\n",
      " 15  PV1SCIE  485490 non-null  float64\n",
      " 16  PV2SCIE  485490 non-null  float64\n",
      " 17  PV3SCIE  485490 non-null  float64\n",
      " 18  PV4SCIE  485490 non-null  float64\n",
      " 19  PV5SCIE  485490 non-null  float64\n",
      "dtypes: float64(16), object(4)\n",
      "memory usage: 74.1+ MB\n"
     ]
    }
   ],
   "source": [
    "df.info()"
   ]
  },
  {
   "cell_type": "code",
   "execution_count": 8,
   "metadata": {},
   "outputs": [
    {
     "data": {
      "text/plain": [
       "0"
      ]
     },
     "execution_count": 8,
     "metadata": {},
     "output_type": "execute_result"
    }
   ],
   "source": [
    "df.duplicated().sum()"
   ]
  },
  {
   "cell_type": "code",
   "execution_count": 9,
   "metadata": {},
   "outputs": [
    {
     "data": {
      "text/plain": [
       "array(['Albania', 'United Arab Emirates', 'Argentina', 'Australia',\n",
       "       'Austria', 'Belgium', 'Bulgaria', 'Brazil', 'Canada',\n",
       "       'Switzerland', 'Chile', 'Colombia', 'Costa Rica', 'Czech Republic',\n",
       "       'Germany', 'Denmark', 'Spain', 'Estonia', 'Finland', 'France',\n",
       "       'United Kingdom', 'Greece', 'Hong Kong-China', 'Croatia',\n",
       "       'Hungary', 'Indonesia', 'Ireland', 'Iceland', 'Israel', 'Italy',\n",
       "       'Jordan', 'Japan', 'Kazakhstan', 'Korea', 'Liechtenstein',\n",
       "       'Lithuania', 'Luxembourg', 'Latvia', 'Macao-China', 'Mexico',\n",
       "       'Montenegro', 'Malaysia', 'Netherlands', 'Norway', 'New Zealand',\n",
       "       'Peru', 'Poland', 'Portugal', 'Qatar', 'China-Shanghai',\n",
       "       'Perm(Russian Federation)', 'Florida (USA)', 'Connecticut (USA)',\n",
       "       'Massachusetts (USA)', 'Romania', 'Russian Federation',\n",
       "       'Singapore', 'Serbia', 'Slovak Republic', 'Slovenia', 'Sweden',\n",
       "       'Chinese Taipei', 'Thailand', 'Tunisia', 'Turkey', 'Uruguay',\n",
       "       'United States of America', 'Vietnam'], dtype=object)"
      ]
     },
     "execution_count": 9,
     "metadata": {},
     "output_type": "execute_result"
    }
   ],
   "source": [
    "df.CNT.unique()"
   ]
  },
  {
   "cell_type": "code",
   "execution_count": 10,
   "metadata": {},
   "outputs": [
    {
     "data": {
      "text/plain": [
       "array(['Female', 'Male'], dtype=object)"
      ]
     },
     "execution_count": 10,
     "metadata": {},
     "output_type": "execute_result"
    }
   ],
   "source": [
    "df.ST04Q01.unique()"
   ]
  },
  {
   "cell_type": "code",
   "execution_count": 11,
   "metadata": {},
   "outputs": [
    {
     "data": {
      "text/plain": [
       "array(['None', 'Three or more', 'Two', 'One', nan], dtype=object)"
      ]
     },
     "execution_count": 11,
     "metadata": {},
     "output_type": "execute_result"
    }
   ],
   "source": [
    "df.ST27Q03.unique()"
   ]
  },
  {
   "cell_type": "code",
   "execution_count": 12,
   "metadata": {},
   "outputs": [
    {
     "data": {
      "text/plain": [
       "array(['Never or rarely', nan, 'Sometimes', 'Often',\n",
       "       'Always or almost always'], dtype=object)"
      ]
     },
     "execution_count": 12,
     "metadata": {},
     "output_type": "execute_result"
    }
   ],
   "source": [
    "df.ST49Q07.unique()"
   ]
  },
  {
   "cell_type": "code",
   "execution_count": 13,
   "metadata": {},
   "outputs": [
    {
     "data": {
      "text/html": [
       "<div>\n",
       "<style scoped>\n",
       "    .dataframe tbody tr th:only-of-type {\n",
       "        vertical-align: middle;\n",
       "    }\n",
       "\n",
       "    .dataframe tbody tr th {\n",
       "        vertical-align: top;\n",
       "    }\n",
       "\n",
       "    .dataframe thead th {\n",
       "        text-align: right;\n",
       "    }\n",
       "</style>\n",
       "<table border=\"1\" class=\"dataframe\">\n",
       "  <thead>\n",
       "    <tr style=\"text-align: right;\">\n",
       "      <th></th>\n",
       "      <th>WEALTH</th>\n",
       "      <th>PV1MATH</th>\n",
       "      <th>PV2MATH</th>\n",
       "      <th>PV3MATH</th>\n",
       "      <th>PV4MATH</th>\n",
       "      <th>PV5MATH</th>\n",
       "      <th>PV1READ</th>\n",
       "      <th>PV2READ</th>\n",
       "      <th>PV3READ</th>\n",
       "      <th>PV4READ</th>\n",
       "      <th>PV5READ</th>\n",
       "      <th>PV1SCIE</th>\n",
       "      <th>PV2SCIE</th>\n",
       "      <th>PV3SCIE</th>\n",
       "      <th>PV4SCIE</th>\n",
       "      <th>PV5SCIE</th>\n",
       "    </tr>\n",
       "  </thead>\n",
       "  <tbody>\n",
       "    <tr>\n",
       "      <th>count</th>\n",
       "      <td>479597.00000</td>\n",
       "      <td>485490.000000</td>\n",
       "      <td>485490.000000</td>\n",
       "      <td>485490.000000</td>\n",
       "      <td>485490.000000</td>\n",
       "      <td>485490.000000</td>\n",
       "      <td>485490.000000</td>\n",
       "      <td>485490.000000</td>\n",
       "      <td>485490.000000</td>\n",
       "      <td>485490.000000</td>\n",
       "      <td>485490.000000</td>\n",
       "      <td>485490.000000</td>\n",
       "      <td>485490.000000</td>\n",
       "      <td>485490.000000</td>\n",
       "      <td>485490.00000</td>\n",
       "      <td>485490.000000</td>\n",
       "    </tr>\n",
       "    <tr>\n",
       "      <th>mean</th>\n",
       "      <td>-0.33701</td>\n",
       "      <td>469.621653</td>\n",
       "      <td>469.648358</td>\n",
       "      <td>469.648930</td>\n",
       "      <td>469.641832</td>\n",
       "      <td>469.695396</td>\n",
       "      <td>472.004640</td>\n",
       "      <td>472.068052</td>\n",
       "      <td>472.022059</td>\n",
       "      <td>471.926562</td>\n",
       "      <td>472.013506</td>\n",
       "      <td>475.769824</td>\n",
       "      <td>475.813674</td>\n",
       "      <td>475.851549</td>\n",
       "      <td>475.78524</td>\n",
       "      <td>475.820184</td>\n",
       "    </tr>\n",
       "    <tr>\n",
       "      <th>std</th>\n",
       "      <td>1.21530</td>\n",
       "      <td>103.265391</td>\n",
       "      <td>103.382077</td>\n",
       "      <td>103.407631</td>\n",
       "      <td>103.392286</td>\n",
       "      <td>103.419170</td>\n",
       "      <td>102.505523</td>\n",
       "      <td>102.626198</td>\n",
       "      <td>102.640489</td>\n",
       "      <td>102.576066</td>\n",
       "      <td>102.659989</td>\n",
       "      <td>101.464426</td>\n",
       "      <td>101.514649</td>\n",
       "      <td>101.495072</td>\n",
       "      <td>101.51220</td>\n",
       "      <td>101.566347</td>\n",
       "    </tr>\n",
       "    <tr>\n",
       "      <th>min</th>\n",
       "      <td>-6.65000</td>\n",
       "      <td>19.792800</td>\n",
       "      <td>6.473000</td>\n",
       "      <td>42.226200</td>\n",
       "      <td>24.622200</td>\n",
       "      <td>37.085200</td>\n",
       "      <td>0.083400</td>\n",
       "      <td>0.703500</td>\n",
       "      <td>0.703500</td>\n",
       "      <td>4.134400</td>\n",
       "      <td>2.307400</td>\n",
       "      <td>2.648300</td>\n",
       "      <td>2.834800</td>\n",
       "      <td>11.879900</td>\n",
       "      <td>8.42970</td>\n",
       "      <td>17.754600</td>\n",
       "    </tr>\n",
       "    <tr>\n",
       "      <th>25%</th>\n",
       "      <td>-1.04000</td>\n",
       "      <td>395.318600</td>\n",
       "      <td>395.318600</td>\n",
       "      <td>395.240700</td>\n",
       "      <td>395.396500</td>\n",
       "      <td>395.240700</td>\n",
       "      <td>403.600700</td>\n",
       "      <td>403.360100</td>\n",
       "      <td>403.360100</td>\n",
       "      <td>403.354600</td>\n",
       "      <td>403.360100</td>\n",
       "      <td>404.457300</td>\n",
       "      <td>404.457300</td>\n",
       "      <td>404.550500</td>\n",
       "      <td>404.45730</td>\n",
       "      <td>404.457300</td>\n",
       "    </tr>\n",
       "    <tr>\n",
       "      <th>50%</th>\n",
       "      <td>-0.30000</td>\n",
       "      <td>466.201900</td>\n",
       "      <td>466.124000</td>\n",
       "      <td>466.201900</td>\n",
       "      <td>466.279800</td>\n",
       "      <td>466.435600</td>\n",
       "      <td>475.455000</td>\n",
       "      <td>475.535200</td>\n",
       "      <td>475.455000</td>\n",
       "      <td>475.535200</td>\n",
       "      <td>475.535200</td>\n",
       "      <td>475.699400</td>\n",
       "      <td>475.606100</td>\n",
       "      <td>475.699400</td>\n",
       "      <td>475.97910</td>\n",
       "      <td>475.885900</td>\n",
       "    </tr>\n",
       "    <tr>\n",
       "      <th>75%</th>\n",
       "      <td>0.43000</td>\n",
       "      <td>541.057800</td>\n",
       "      <td>541.447300</td>\n",
       "      <td>541.291500</td>\n",
       "      <td>541.447300</td>\n",
       "      <td>541.447300</td>\n",
       "      <td>544.502500</td>\n",
       "      <td>544.503500</td>\n",
       "      <td>544.503500</td>\n",
       "      <td>544.502500</td>\n",
       "      <td>544.503500</td>\n",
       "      <td>547.780700</td>\n",
       "      <td>547.873900</td>\n",
       "      <td>547.967200</td>\n",
       "      <td>547.78070</td>\n",
       "      <td>547.780700</td>\n",
       "    </tr>\n",
       "    <tr>\n",
       "      <th>max</th>\n",
       "      <td>3.25000</td>\n",
       "      <td>962.229300</td>\n",
       "      <td>957.010400</td>\n",
       "      <td>935.745400</td>\n",
       "      <td>943.456900</td>\n",
       "      <td>907.625800</td>\n",
       "      <td>904.802600</td>\n",
       "      <td>881.239200</td>\n",
       "      <td>884.447000</td>\n",
       "      <td>881.159000</td>\n",
       "      <td>901.608600</td>\n",
       "      <td>903.338300</td>\n",
       "      <td>900.540800</td>\n",
       "      <td>867.624000</td>\n",
       "      <td>926.55730</td>\n",
       "      <td>880.958600</td>\n",
       "    </tr>\n",
       "  </tbody>\n",
       "</table>\n",
       "</div>"
      ],
      "text/plain": [
       "             WEALTH        PV1MATH        PV2MATH        PV3MATH  \\\n",
       "count  479597.00000  485490.000000  485490.000000  485490.000000   \n",
       "mean       -0.33701     469.621653     469.648358     469.648930   \n",
       "std         1.21530     103.265391     103.382077     103.407631   \n",
       "min        -6.65000      19.792800       6.473000      42.226200   \n",
       "25%        -1.04000     395.318600     395.318600     395.240700   \n",
       "50%        -0.30000     466.201900     466.124000     466.201900   \n",
       "75%         0.43000     541.057800     541.447300     541.291500   \n",
       "max         3.25000     962.229300     957.010400     935.745400   \n",
       "\n",
       "             PV4MATH        PV5MATH        PV1READ        PV2READ  \\\n",
       "count  485490.000000  485490.000000  485490.000000  485490.000000   \n",
       "mean      469.641832     469.695396     472.004640     472.068052   \n",
       "std       103.392286     103.419170     102.505523     102.626198   \n",
       "min        24.622200      37.085200       0.083400       0.703500   \n",
       "25%       395.396500     395.240700     403.600700     403.360100   \n",
       "50%       466.279800     466.435600     475.455000     475.535200   \n",
       "75%       541.447300     541.447300     544.502500     544.503500   \n",
       "max       943.456900     907.625800     904.802600     881.239200   \n",
       "\n",
       "             PV3READ        PV4READ        PV5READ        PV1SCIE  \\\n",
       "count  485490.000000  485490.000000  485490.000000  485490.000000   \n",
       "mean      472.022059     471.926562     472.013506     475.769824   \n",
       "std       102.640489     102.576066     102.659989     101.464426   \n",
       "min         0.703500       4.134400       2.307400       2.648300   \n",
       "25%       403.360100     403.354600     403.360100     404.457300   \n",
       "50%       475.455000     475.535200     475.535200     475.699400   \n",
       "75%       544.503500     544.502500     544.503500     547.780700   \n",
       "max       884.447000     881.159000     901.608600     903.338300   \n",
       "\n",
       "             PV2SCIE        PV3SCIE       PV4SCIE        PV5SCIE  \n",
       "count  485490.000000  485490.000000  485490.00000  485490.000000  \n",
       "mean      475.813674     475.851549     475.78524     475.820184  \n",
       "std       101.514649     101.495072     101.51220     101.566347  \n",
       "min         2.834800      11.879900       8.42970      17.754600  \n",
       "25%       404.457300     404.550500     404.45730     404.457300  \n",
       "50%       475.606100     475.699400     475.97910     475.885900  \n",
       "75%       547.873900     547.967200     547.78070     547.780700  \n",
       "max       900.540800     867.624000     926.55730     880.958600  "
      ]
     },
     "execution_count": 13,
     "metadata": {},
     "output_type": "execute_result"
    }
   ],
   "source": [
    "df.describe()"
   ]
  },
  {
   "cell_type": "markdown",
   "metadata": {},
   "source": [
    "### Quality issues"
   ]
  },
  {
   "cell_type": "markdown",
   "metadata": {},
   "source": [
    "* Incomprehensible column names\n",
    "* Cities and states instead of country names"
   ]
  },
  {
   "cell_type": "markdown",
   "metadata": {},
   "source": [
    "### Tidiness issues"
   ]
  },
  {
   "cell_type": "markdown",
   "metadata": {},
   "source": [
    "* Combine plausible scores"
   ]
  },
  {
   "cell_type": "markdown",
   "metadata": {},
   "source": [
    "## Cleaning data"
   ]
  },
  {
   "cell_type": "markdown",
   "metadata": {},
   "source": [
    "Create copy of the DataFrame."
   ]
  },
  {
   "cell_type": "code",
   "execution_count": 14,
   "metadata": {},
   "outputs": [],
   "source": [
    "df_clean = df.copy()"
   ]
  },
  {
   "cell_type": "markdown",
   "metadata": {},
   "source": [
    "### Incomprehensible column names"
   ]
  },
  {
   "cell_type": "markdown",
   "metadata": {},
   "source": [
    "#### Code"
   ]
  },
  {
   "cell_type": "code",
   "execution_count": 15,
   "metadata": {},
   "outputs": [],
   "source": [
    "df_clean.rename(columns={\n",
    "    'CNT': 'Country',\n",
    "    'ST04Q01': 'Gender',\n",
    "    'ST27Q03': 'Number of Computers',\n",
    "    'ST49Q07': 'Programming Rate',\n",
    "    'WEALTH': 'Wealth Index'\n",
    "},\n",
    "                inplace=True)"
   ]
  },
  {
   "cell_type": "markdown",
   "metadata": {},
   "source": [
    "#### Test"
   ]
  },
  {
   "cell_type": "code",
   "execution_count": 16,
   "metadata": {},
   "outputs": [
    {
     "name": "stdout",
     "output_type": "stream",
     "text": [
      "<class 'pandas.core.frame.DataFrame'>\n",
      "RangeIndex: 485490 entries, 0 to 485489\n",
      "Data columns (total 20 columns):\n",
      " #   Column               Non-Null Count   Dtype  \n",
      "---  ------               --------------   -----  \n",
      " 0   Country              485490 non-null  object \n",
      " 1   Gender               485490 non-null  object \n",
      " 2   Number of Computers  473459 non-null  object \n",
      " 3   Programming Rate     312425 non-null  object \n",
      " 4   Wealth Index         479597 non-null  float64\n",
      " 5   PV1MATH              485490 non-null  float64\n",
      " 6   PV2MATH              485490 non-null  float64\n",
      " 7   PV3MATH              485490 non-null  float64\n",
      " 8   PV4MATH              485490 non-null  float64\n",
      " 9   PV5MATH              485490 non-null  float64\n",
      " 10  PV1READ              485490 non-null  float64\n",
      " 11  PV2READ              485490 non-null  float64\n",
      " 12  PV3READ              485490 non-null  float64\n",
      " 13  PV4READ              485490 non-null  float64\n",
      " 14  PV5READ              485490 non-null  float64\n",
      " 15  PV1SCIE              485490 non-null  float64\n",
      " 16  PV2SCIE              485490 non-null  float64\n",
      " 17  PV3SCIE              485490 non-null  float64\n",
      " 18  PV4SCIE              485490 non-null  float64\n",
      " 19  PV5SCIE              485490 non-null  float64\n",
      "dtypes: float64(16), object(4)\n",
      "memory usage: 74.1+ MB\n"
     ]
    }
   ],
   "source": [
    "df_clean.info()"
   ]
  },
  {
   "cell_type": "markdown",
   "metadata": {},
   "source": [
    "### Cities and states instead of country names"
   ]
  },
  {
   "cell_type": "markdown",
   "metadata": {},
   "source": [
    "#### Code"
   ]
  },
  {
   "cell_type": "code",
   "execution_count": 17,
   "metadata": {},
   "outputs": [],
   "source": [
    "df_clean['Country'].replace(\n",
    "    ['Florida (USA)', 'Connecticut (USA)', 'Massachusetts (USA)'],\n",
    "    'United States of America',\n",
    "    inplace=True)\n",
    "\n",
    "df_clean['Country'].replace(\n",
    "    ['Hong Kong-China', 'Macao-China', 'China-Shanghai', 'Chinese Taipei'],\n",
    "    'China',\n",
    "    inplace=True)\n",
    "\n",
    "df_clean['Country'].replace(['Perm(Russian Federation)'],\n",
    "                            'Russian Federation',\n",
    "                            inplace=True)"
   ]
  },
  {
   "cell_type": "markdown",
   "metadata": {},
   "source": [
    "#### Test"
   ]
  },
  {
   "cell_type": "code",
   "execution_count": 18,
   "metadata": {},
   "outputs": [
    {
     "data": {
      "text/plain": [
       "array(['Albania', 'United Arab Emirates', 'Argentina', 'Australia',\n",
       "       'Austria', 'Belgium', 'Bulgaria', 'Brazil', 'Canada',\n",
       "       'Switzerland', 'Chile', 'Colombia', 'Costa Rica', 'Czech Republic',\n",
       "       'Germany', 'Denmark', 'Spain', 'Estonia', 'Finland', 'France',\n",
       "       'United Kingdom', 'Greece', 'China', 'Croatia', 'Hungary',\n",
       "       'Indonesia', 'Ireland', 'Iceland', 'Israel', 'Italy', 'Jordan',\n",
       "       'Japan', 'Kazakhstan', 'Korea', 'Liechtenstein', 'Lithuania',\n",
       "       'Luxembourg', 'Latvia', 'Mexico', 'Montenegro', 'Malaysia',\n",
       "       'Netherlands', 'Norway', 'New Zealand', 'Peru', 'Poland',\n",
       "       'Portugal', 'Qatar', 'Russian Federation',\n",
       "       'United States of America', 'Romania', 'Singapore', 'Serbia',\n",
       "       'Slovak Republic', 'Slovenia', 'Sweden', 'Thailand', 'Tunisia',\n",
       "       'Turkey', 'Uruguay', 'Vietnam'], dtype=object)"
      ]
     },
     "execution_count": 18,
     "metadata": {},
     "output_type": "execute_result"
    }
   ],
   "source": [
    "df_clean['Country'].unique()"
   ]
  },
  {
   "cell_type": "markdown",
   "metadata": {},
   "source": [
    "### Combine plausible scores"
   ]
  },
  {
   "cell_type": "markdown",
   "metadata": {},
   "source": [
    "#### Code"
   ]
  },
  {
   "cell_type": "code",
   "execution_count": 19,
   "metadata": {},
   "outputs": [],
   "source": [
    "# Calculate mean score out of 5\n",
    "df_clean['Math'] = df_clean[[\n",
    "    'PV1MATH', 'PV2MATH', 'PV3MATH', 'PV4MATH', 'PV5MATH'\n",
    "]].mean(axis=1)\n",
    "\n",
    "df_clean['Reading'] = df_clean[[\n",
    "    'PV1READ', 'PV2READ', 'PV3READ', 'PV4READ', 'PV5READ'\n",
    "]].mean(axis=1)\n",
    "\n",
    "df_clean['Science'] = df_clean[[\n",
    "    'PV1SCIE', 'PV2SCIE', 'PV3SCIE', 'PV4SCIE', 'PV5SCIE'\n",
    "]].mean(axis=1)\n",
    "\n",
    "# Filter out columns\n",
    "df_clean = df_clean[[\n",
    "    'Country', 'Gender', 'Number of Computers', 'Programming Rate', 'Math',\n",
    "    'Reading', 'Science', 'Wealth Index'\n",
    "]]"
   ]
  },
  {
   "cell_type": "markdown",
   "metadata": {},
   "source": [
    "#### Test"
   ]
  },
  {
   "cell_type": "code",
   "execution_count": 20,
   "metadata": {},
   "outputs": [
    {
     "name": "stdout",
     "output_type": "stream",
     "text": [
      "<class 'pandas.core.frame.DataFrame'>\n",
      "RangeIndex: 485490 entries, 0 to 485489\n",
      "Data columns (total 8 columns):\n",
      " #   Column               Non-Null Count   Dtype  \n",
      "---  ------               --------------   -----  \n",
      " 0   Country              485490 non-null  object \n",
      " 1   Gender               485490 non-null  object \n",
      " 2   Number of Computers  473459 non-null  object \n",
      " 3   Programming Rate     312425 non-null  object \n",
      " 4   Math                 485490 non-null  float64\n",
      " 5   Reading              485490 non-null  float64\n",
      " 6   Science              485490 non-null  float64\n",
      " 7   Wealth Index         479597 non-null  float64\n",
      "dtypes: float64(4), object(4)\n",
      "memory usage: 29.6+ MB\n"
     ]
    }
   ],
   "source": [
    "df_clean.info()"
   ]
  },
  {
   "cell_type": "code",
   "execution_count": 21,
   "metadata": {},
   "outputs": [
    {
     "data": {
      "text/html": [
       "<div>\n",
       "<style scoped>\n",
       "    .dataframe tbody tr th:only-of-type {\n",
       "        vertical-align: middle;\n",
       "    }\n",
       "\n",
       "    .dataframe tbody tr th {\n",
       "        vertical-align: top;\n",
       "    }\n",
       "\n",
       "    .dataframe thead th {\n",
       "        text-align: right;\n",
       "    }\n",
       "</style>\n",
       "<table border=\"1\" class=\"dataframe\">\n",
       "  <thead>\n",
       "    <tr style=\"text-align: right;\">\n",
       "      <th></th>\n",
       "      <th>Math</th>\n",
       "      <th>Reading</th>\n",
       "      <th>Science</th>\n",
       "      <th>Wealth Index</th>\n",
       "    </tr>\n",
       "  </thead>\n",
       "  <tbody>\n",
       "    <tr>\n",
       "      <th>count</th>\n",
       "      <td>485490.000000</td>\n",
       "      <td>485490.000000</td>\n",
       "      <td>485490.000000</td>\n",
       "      <td>479597.00000</td>\n",
       "    </tr>\n",
       "    <tr>\n",
       "      <th>mean</th>\n",
       "      <td>469.651234</td>\n",
       "      <td>472.006964</td>\n",
       "      <td>475.808094</td>\n",
       "      <td>-0.33701</td>\n",
       "    </tr>\n",
       "    <tr>\n",
       "      <th>std</th>\n",
       "      <td>100.786610</td>\n",
       "      <td>98.863310</td>\n",
       "      <td>97.998470</td>\n",
       "      <td>1.21530</td>\n",
       "    </tr>\n",
       "    <tr>\n",
       "      <th>min</th>\n",
       "      <td>54.767080</td>\n",
       "      <td>6.445400</td>\n",
       "      <td>25.158540</td>\n",
       "      <td>-6.65000</td>\n",
       "    </tr>\n",
       "    <tr>\n",
       "      <th>25%</th>\n",
       "      <td>396.019620</td>\n",
       "      <td>405.044200</td>\n",
       "      <td>405.762800</td>\n",
       "      <td>-1.04000</td>\n",
       "    </tr>\n",
       "    <tr>\n",
       "      <th>50%</th>\n",
       "      <td>465.734520</td>\n",
       "      <td>475.477980</td>\n",
       "      <td>475.512860</td>\n",
       "      <td>-0.30000</td>\n",
       "    </tr>\n",
       "    <tr>\n",
       "      <th>75%</th>\n",
       "      <td>540.123060</td>\n",
       "      <td>542.831195</td>\n",
       "      <td>546.381920</td>\n",
       "      <td>0.43000</td>\n",
       "    </tr>\n",
       "    <tr>\n",
       "      <th>max</th>\n",
       "      <td>903.107960</td>\n",
       "      <td>849.359740</td>\n",
       "      <td>857.832900</td>\n",
       "      <td>3.25000</td>\n",
       "    </tr>\n",
       "  </tbody>\n",
       "</table>\n",
       "</div>"
      ],
      "text/plain": [
       "                Math        Reading        Science  Wealth Index\n",
       "count  485490.000000  485490.000000  485490.000000  479597.00000\n",
       "mean      469.651234     472.006964     475.808094      -0.33701\n",
       "std       100.786610      98.863310      97.998470       1.21530\n",
       "min        54.767080       6.445400      25.158540      -6.65000\n",
       "25%       396.019620     405.044200     405.762800      -1.04000\n",
       "50%       465.734520     475.477980     475.512860      -0.30000\n",
       "75%       540.123060     542.831195     546.381920       0.43000\n",
       "max       903.107960     849.359740     857.832900       3.25000"
      ]
     },
     "execution_count": 21,
     "metadata": {},
     "output_type": "execute_result"
    }
   ],
   "source": [
    "df_clean.describe()"
   ]
  },
  {
   "cell_type": "markdown",
   "metadata": {},
   "source": [
    "## Store the clean DataFrame"
   ]
  },
  {
   "cell_type": "code",
   "execution_count": 22,
   "metadata": {},
   "outputs": [],
   "source": [
    "df_clean.to_csv('data/pisa2012_cleaned.csv')"
   ]
  }
 ],
 "metadata": {
  "kernelspec": {
   "display_name": "Python 3",
   "language": "python",
   "name": "python3"
  },
  "language_info": {
   "codemirror_mode": {
    "name": "ipython",
    "version": 3
   },
   "file_extension": ".py",
   "mimetype": "text/x-python",
   "name": "python",
   "nbconvert_exporter": "python",
   "pygments_lexer": "ipython3",
   "version": "3.8.2"
  }
 },
 "nbformat": 4,
 "nbformat_minor": 4
}
